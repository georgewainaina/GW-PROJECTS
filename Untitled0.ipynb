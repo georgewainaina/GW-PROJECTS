{
  "nbformat": 4,
  "nbformat_minor": 0,
  "metadata": {
    "colab": {
      "provenance": [],
      "authorship_tag": "ABX9TyNSBWW3Wpe8Mfkn+u9Rgy7i",
      "include_colab_link": true
    },
    "kernelspec": {
      "name": "python3",
      "display_name": "Python 3"
    },
    "language_info": {
      "name": "python"
    }
  },
  "cells": [
    {
      "cell_type": "markdown",
      "metadata": {
        "id": "view-in-github",
        "colab_type": "text"
      },
      "source": [
        "<a href=\"https://colab.research.google.com/github/georgewainaina/GW-PROJECTS/blob/main/Untitled0.ipynb\" target=\"_parent\"><img src=\"https://colab.research.google.com/assets/colab-badge.svg\" alt=\"Open In Colab\"/></a>"
      ]
    },
    {
      "cell_type": "code",
      "execution_count": 1,
      "metadata": {
        "colab": {
          "base_uri": "https://localhost:8080/"
        },
        "id": "jaDveYdr6ng8",
        "outputId": "f650e55f-d2d3-4257-f44a-eaf822c331bf"
      },
      "outputs": [
        {
          "output_type": "stream",
          "name": "stdout",
          "text": [
            "The sum of 1.5 and 6.3 is 7.8\n"
          ]
        }
      ],
      "source": [
        "# This program adds two numbers\n",
        "\n",
        "num1 = 1.5\n",
        "num2 = 6.3\n",
        "# Add two numbers\n",
        "sum = num1 + num2\n",
        "\n",
        "# Display the sum\n",
        "print('The sum of {0} and {1} is {2}'.format(num1, num2, sum))\n"
      ]
    },
    {
      "cell_type": "code",
      "source": [
        "# This program adds two numbers entered by the user\n",
        "\n",
        "a=int(input(\"enter first number : \"))\n",
        "\n",
        "b=int(input(\"enter second number : \"))\n",
        "# Add two numbers\n",
        "sum = a + b\n",
        "\n",
        "# Display the sum\n",
        "print('The sum of {0} and {1} is {2}'.format(a, b, sum))\n"
      ],
      "metadata": {
        "colab": {
          "base_uri": "https://localhost:8080/"
        },
        "id": "RKFKIAd56xsX",
        "outputId": "de7d7fbb-8dc1-4ee5-f74e-327f994fc55c"
      },
      "execution_count": 2,
      "outputs": [
        {
          "output_type": "stream",
          "name": "stdout",
          "text": [
            "enter first number : 4\n",
            "enter second number : 5\n",
            "The sum of 4 and 5 is 9\n"
          ]
        }
      ]
    },
    {
      "cell_type": "code",
      "source": [
        "score_theory = 50\n",
        "score_practical = 55\n",
        "if(score_theory + score_practical >= 100):\n",
        " print(\"Invalid score. Please check the input.\")"
      ],
      "metadata": {
        "colab": {
          "base_uri": "https://localhost:8080/"
        },
        "id": "Yr3ilTsv7gzg",
        "outputId": "b089008e-94b0-41dd-b79d-1dc77462ddcc"
      },
      "execution_count": 3,
      "outputs": [
        {
          "output_type": "stream",
          "name": "stdout",
          "text": [
            "Invalid score. Please check the input.\n"
          ]
        }
      ]
    },
    {
      "cell_type": "code",
      "source": [
        "# This program to test maximum value between two values entered\n",
        "\n",
        "a=int(input(\"enter first number : \"))\n",
        "\n",
        "b=int(input(\"enter second number : \"))\n",
        "# Add two numbers\n",
        "if (a>b):\n",
        " print('Maximum=',a)\n",
        "else:\n",
        " print('Maximum=',b)\n"
      ],
      "metadata": {
        "colab": {
          "base_uri": "https://localhost:8080/"
        },
        "id": "vxiM0TPr7q2_",
        "outputId": "223bb505-2309-4e02-8b55-d5e75d678a89"
      },
      "execution_count": 4,
      "outputs": [
        {
          "output_type": "stream",
          "name": "stdout",
          "text": [
            "enter first number : 45\n",
            "enter second number : 23\n",
            "Maximum= 45\n"
          ]
        }
      ]
    }
  ]
}